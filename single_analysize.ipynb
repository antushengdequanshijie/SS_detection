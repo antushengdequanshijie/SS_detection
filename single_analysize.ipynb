{
 "cells": [
  {
   "cell_type": "code",
   "execution_count": 1,
   "id": "cb43e91e-f6bc-4841-933f-6a2bc03c50a8",
   "metadata": {},
   "outputs": [],
   "source": [
    "import os\n",
    "import cv2"
   ]
  },
  {
   "cell_type": "code",
   "execution_count": 3,
   "id": "9a41be74-bb21-47f9-9979-c2fe310cf9f9",
   "metadata": {},
   "outputs": [
    {
     "name": "stdout",
     "output_type": "stream",
     "text": [
      "ROI: X=875, Y=167, W=91, H=459\n",
      "[[91, 459]]\n"
     ]
    }
   ],
   "source": [
    "# 初始化变量\n",
    "roi = []\n",
    "area = []\n",
    "def draw_rectangle(event, x, y, flags, param):\n",
    "    global roi, img_temp\n",
    "\n",
    "    if event == cv2.EVENT_LBUTTONDOWN:\n",
    "        roi = [(x, y)]  # 记录左上角坐标\n",
    "\n",
    "    elif event == cv2.EVENT_LBUTTONUP:\n",
    "        roi.append((x, y))  # 记录右下角坐标\n",
    "        cv2.rectangle(img_temp, roi[0], roi[1], (0, 255, 0), 2)  # 画出矩形\n",
    "        cv2.imshow(\"Image\", img_temp)\n",
    "\n",
    "# 读取图片\n",
    "img = cv2.imread('train_jpg/0/Video_20240806182752758_frame_26.jpg')  # 修改为你的图片路径\n",
    "img_temp = img.copy()\n",
    "\n",
    "cv2.namedWindow(\"Image\")\n",
    "cv2.setMouseCallback(\"Image\", draw_rectangle)\n",
    "\n",
    "while True:\n",
    "    cv2.imshow(\"Image\", img_temp)\n",
    "    key = cv2.waitKey(1) & 0xFF\n",
    "\n",
    "    # 按下 's' 键保存ROI并退出\n",
    "    if key == ord('s'):\n",
    "        if len(roi) == 2:\n",
    "            x1, y1 = roi[0]\n",
    "            x2, y2 = roi[1]\n",
    "            x, y = min(x1, x2), min(y1, y2)\n",
    "            w, h = abs(x2 - x1), abs(y2 - y1)\n",
    "            print(f\"ROI: X={x}, Y={y}, W={w}, H={h}\")\n",
    "            area.append([w,h])\n",
    "        break\n",
    "\n",
    "    # 按下 'q' 键退出\n",
    "    if key == ord('q'):\n",
    "        break\n",
    "\n",
    "cv2.destroyAllWindows()\n",
    "print(area)"
   ]
  },
  {
   "cell_type": "code",
   "execution_count": null,
   "id": "b281492d-2bbb-4b18-b9b1-fb60196dfc92",
   "metadata": {},
   "outputs": [],
   "source": [
    "def frame_diff_process(frames_folder, diff_folder):\n",
    "    # 如果差分图像文件夹不存在，则创建\n",
    "    os.makedirs(diff_folder, exist_ok= True)\n",
    "\n",
    "    # 获取所有帧的文件名并排序\n",
    "    frame_files = sorted([f for f in os.listdir(frames_folder) if f.endswith('.jpg')])\n",
    "\n",
    "    # 读取第一帧作为初始帧\n",
    "    previous_frame = cv2.imread(os.path.join(frames_folder, frame_files[0]), cv2.IMREAD_GRAYSCALE)\n",
    "\n",
    "    for i in range(1, len(frame_files)):\n",
    "        # 读取下一帧\n",
    "        current_frame = cv2.imread(os.path.join(frames_folder, frame_files[i]), cv2.IMREAD_GRAYSCALE)\n",
    "\n",
    "        # 计算当前帧和前一帧之间的差异\n",
    "        frame_diff = cv2.absdiff(current_frame, previous_frame)\n",
    "        \n",
    "        # 保存差异图像\n",
    "        diff_path = os.path.join(diff_folder, f\"diff_{i:04d}.jpg\")\n",
    "        cv2.imwrite(diff_path, frame_diff)\n",
    "\n",
    "        # 更新前一帧\n",
    "        previous_frame = current_frame\n",
    "\n",
    "    print('帧差分图像已保存。')"
   ]
  },
  {
   "cell_type": "code",
   "execution_count": null,
   "id": "e5e7e104-b885-4dee-8622-820cd14ec584",
   "metadata": {},
   "outputs": [],
   "source": [
    "def analyze_motion(directory):\n",
    "    label_counts = {}\n",
    "\n",
    "    for label in os.listdir(directory):\n",
    "        label_path = os.path.join(directory, label)\n",
    "        if os.path.isdir(label_path):\n",
    "            images = [os.path.join(label_path, f) for f in os.listdir(label_path) if f.endswith(('.png', '.jpg', '.jpeg'))]\n",
    "            images.sort()  # 确保图片是按顺序处理\n",
    "            total_objects = 0\n",
    "\n",
    "            for image_path in images:\n",
    "                frame = cv2.imread(image_path, cv2.IMREAD_GRAYSCALE)\n",
    "                if frame is None:\n",
    "                    continue\n",
    "                \n",
    "                _, thresh = cv2.threshold(frame, 25, 255, cv2.THRESH_BINARY)\n",
    "                contours, _ = cv2.findContours(thresh, cv2.RETR_EXTERNAL, cv2.CHAIN_APPROX_SIMPLE)\n",
    "                total_objects += len(contours)  # 累加当前标签下的运动物体数量\n",
    "\n",
    "            label_counts[label] = total_objects\n",
    "\n",
    "    # 绘制条形图\n",
    "    labels = list(label_counts.keys())\n",
    "    counts = [label_counts[label] for label in labels]\n",
    "\n",
    "    plt.figure(figsize=(10, 5))\n",
    "    plt.bar(labels, counts, color='blue')\n",
    "    plt.xlabel('Label')\n",
    "    plt.ylabel('Number of Moving Objects')\n",
    "    plt.title('Number of Moving Objects per Label')\n",
    "    plt.xticks(rotation=45)\n",
    "    plt.tight_layout()\n",
    "    plt.show()\n",
    "\n",
    "# 使用方法\n",
    "base_directory = 'train_jpg_diff_video'  # 更改为你的一级目录路径\n",
    "analyze_motion(base_directory)"
   ]
  }
 ],
 "metadata": {
  "kernelspec": {
   "display_name": "Python 3 (ipykernel)",
   "language": "python",
   "name": "python3"
  },
  "language_info": {
   "codemirror_mode": {
    "name": "ipython",
    "version": 3
   },
   "file_extension": ".py",
   "mimetype": "text/x-python",
   "name": "python",
   "nbconvert_exporter": "python",
   "pygments_lexer": "ipython3",
   "version": "3.11.7"
  }
 },
 "nbformat": 4,
 "nbformat_minor": 5
}
